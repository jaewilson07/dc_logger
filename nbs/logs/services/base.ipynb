{
 "cells": [
  {
   "cell_type": "markdown",
   "id": "f4397432",
   "metadata": {},
   "source": [
    "# Base Services\n",
    "> Base configuration classes and utilities for the logging library."
   ]
  },
  {
   "cell_type": "code",
   "execution_count": null,
   "id": "353ab2d0",
   "metadata": {},
   "outputs": [],
   "source": [
    "#| default_exp services.base"
   ]
  },
  {
   "cell_type": "code",
   "execution_count": null,
   "id": "fc0c4590",
   "metadata": {},
   "outputs": [],
   "source": [
    "#| export\n",
    "\n",
    "from dc_logger.client.exceptions import LogConfigError"
   ]
  },
  {
   "cell_type": "code",
   "execution_count": null,
   "id": "79b508f0",
   "metadata": {},
   "outputs": [],
   "source": [
    "#| exporti\n",
    "from enum import Enum\n",
    "import os\n",
    "from typing import Optional, List, Dict, Any, Literal\n",
    "from dataclasses import dataclass, field\n",
    "from abc import ABC, abstractmethod"
   ]
  },
  {
   "cell_type": "code",
   "execution_count": null,
   "id": "3bbd1872",
   "metadata": {},
   "outputs": [],
   "source": [
    "#| export\n",
    "\n",
    "\n",
    "\n",
    "\n"
   ]
  },
  {
   "cell_type": "code",
   "execution_count": null,
   "id": "22c2fe18",
   "metadata": {},
   "outputs": [],
   "source": [
    "#| export \n",
    "\n",
    "class LogHandler(ABC):\n",
    "    \"\"\"Base class for log handlers\"\"\"\n",
    "\n",
    "    def __init__(self, config: LogConfig):\n",
    "        self.config = config\n",
    "\n",
    "    @abstractmethod\n",
    "    async def write(self, entries: List[Log]) -> bool:\n",
    "        \"\"\"Write log entries to destination\"\"\"\n",
    "        pass\n",
    "\n",
    "    @abstractmethod\n",
    "    async def flush(self) -> bool:\n",
    "        \"\"\"Flush any buffered entries\"\"\"\n",
    "        pass\n",
    "\n",
    "    async def close(self):\n",
    "        \"\"\"Clean up resources\"\"\"\n",
    "        pass"
   ]
  }
 ],
 "metadata": {
  "kernelspec": {
   "display_name": "Python 3",
   "language": "python",
   "name": "python3"
  },
  "language_info": {
   "codemirror_mode": {
    "name": "ipython",
    "version": 3
   },
   "file_extension": ".py",
   "mimetype": "text/x-python",
   "name": "python",
   "nbconvert_exporter": "python",
   "pygments_lexer": "ipython3",
   "version": "3.12.1"
  }
 },
 "nbformat": 4,
 "nbformat_minor": 5
}
