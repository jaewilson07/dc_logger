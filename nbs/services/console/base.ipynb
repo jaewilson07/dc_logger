{
 "cells": [
  {
   "cell_type": "code",
   "execution_count": 1,
   "id": "96ff75e9",
   "metadata": {},
   "outputs": [],
   "source": [
    "#| default_exp services.console.base"
   ]
  },
  {
   "cell_type": "code",
   "execution_count": 2,
   "id": "5f7d094c",
   "metadata": {},
   "outputs": [],
   "source": [
    "#| exporti\n",
    "import json\n",
    "from typing import List\n",
    "\n",
    "from dc_logger.client.base import ServiceHandler, ServiceConfig, LogEntry\n"
   ]
  },
  {
   "cell_type": "code",
   "execution_count": 3,
   "id": "50c85e9c",
   "metadata": {},
   "outputs": [],
   "source": [
    "#| exporti\n",
    "\n",
    "from dc_logger.client.base import ServiceConfig, OutputMode\n",
    "from dataclasses import dataclass"
   ]
  },
  {
   "cell_type": "code",
   "execution_count": 4,
   "id": "5e4d82d1",
   "metadata": {},
   "outputs": [],
   "source": [
    "#| export\n",
    "\n",
    "@dataclass\n",
    "class Console_ServiceConfig(ServiceConfig):\n",
    "    \"\"\"Console-specific log configuration\"\"\"\n",
    "    \n",
    "    output_mode: OutputMode = \"console\"\n",
    "    output_type: str = \"text\"  # \"text\" or \"json\"\n",
    "\n",
    "    def validate_config(self) -> bool:\n",
    "        if self.output_type not in [\"text\", \"json\"]:\n",
    "            raise ValueError(f\"output_type must be 'text' or 'json', got {self.output_type}\")\n",
    "        return True"
   ]
  },
  {
   "cell_type": "code",
   "execution_count": 5,
   "id": "5909f443",
   "metadata": {},
   "outputs": [],
   "source": [
    "#| export\n",
    "\n",
    "class ConsoleHandler(ServiceHandler):\n",
    "    \"\"\"Handler for console output\"\"\"\n",
    "\n",
    "    async def _write_json(self, entry: LogEntry) -> dict:\n",
    "        message = json.dumps(entry.to_dict(), indent=2, default=str)\n",
    "        print(message)\n",
    "        return message\n",
    "\n",
    "    async def _write_text(self, entry: LogEntry) -> str:\n",
    "        message = f\"[{entry.timestamp}] {entry.level.value} - {entry.message}\"\n",
    "        print(message)\n",
    "        return message\n",
    "                \n",
    "    async def write(self, entries: List[LogEntry]) -> bool:\n",
    "        \"\"\"Write log entries to console\"\"\"\n",
    "        if not isinstance(entries, list):\n",
    "            entries = [entries]\n",
    "        \n",
    "        # Get output type from config\n",
    "        output_type = self.service_config.output_type if hasattr(self.service_config, 'output_type') else \"text\"\n",
    "        \n",
    "        try:\n",
    "            for entry in entries:\n",
    "                if output_type == \"json\":\n",
    "                    await self._write_json(entry)\n",
    "                else:\n",
    "                    await self._write_text(entry)\n",
    "            return True\n",
    "                \n",
    "        except Exception as e:\n",
    "            print(f\"Error writing to console: {e}\")\n",
    "            return False\n",
    "\n",
    "    async def flush(self) -> bool:\n",
    "        \"\"\"Console output doesn't need flushing\"\"\"\n",
    "        return True\n"
   ]
  },
  {
   "cell_type": "code",
   "execution_count": 6,
   "id": "9d9ce494",
   "metadata": {},
   "outputs": [],
   "source": [
    "# | hide\n",
    "import nbdev;\n",
    "nbdev.nbdev_export('./base.ipynb')"
   ]
  }
 ],
 "metadata": {
  "kernelspec": {
   "display_name": "Python 3",
   "language": "python",
   "name": "python3"
  },
  "language_info": {
   "codemirror_mode": {
    "name": "ipython",
    "version": 3
   },
   "file_extension": ".py",
   "mimetype": "text/x-python",
   "name": "python",
   "nbconvert_exporter": "python",
   "pygments_lexer": "ipython3",
   "version": "3.13.7"
  }
 },
 "nbformat": 4,
 "nbformat_minor": 5
}
