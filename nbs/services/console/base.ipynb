{
 "cells": [
  {
   "cell_type": "code",
   "execution_count": 9,
   "id": "96ff75e9",
   "metadata": {},
   "outputs": [],
   "source": [
    "#| default_exp logs.services.console"
   ]
  },
  {
   "cell_type": "code",
   "execution_count": null,
   "id": "5f7d094c",
   "metadata": {},
   "outputs": [],
   "source": [
    "#| exporti\n",
    "import json\n",
    "from typing import List\n",
    "\n",
    "from dc_logger.client.base import ServiceHandler, ServiceConfig, LogEntry\n"
   ]
  },
  {
   "cell_type": "code",
   "execution_count": null,
   "id": "50c85e9c",
   "metadata": {},
   "outputs": [],
   "source": [
    "#| exporti\n",
    "\n",
    "from dc_logger.client.base import ServiceConfig, OutputMode\n",
    "from dataclasses import dataclass"
   ]
  },
  {
   "cell_type": "code",
   "execution_count": 12,
   "id": "5e4d82d1",
   "metadata": {},
   "outputs": [],
   "source": [
    "#| export\n",
    "\n",
    "@dataclass\n",
    "class Console_ServiceConfig(ServiceConfig):\n",
    "    \"\"\"Console-specific log configuration\"\"\"\n",
    "    \n",
    "    output_mode: OutputMode = \"console\"\n",
    "\n",
    "    def validate_config(self) -> bool:\n",
    "        return True"
   ]
  },
  {
   "cell_type": "code",
   "execution_count": 13,
   "id": "5909f443",
   "metadata": {},
   "outputs": [],
   "source": [
    "#| export\n",
    "\n",
    "class ConsoleHandler(ServiceHandler):\n",
    "    \"\"\"Handler for console output\"\"\"\n",
    "\n",
    "    async def _write_json(self, entry: LogEntry) -> dict:\n",
    "        message = json.dumps(entry.to_dict(), indent=2, default=str)\n",
    "        print(message)\n",
    "        return message\n",
    "\n",
    "\n",
    "    async def _write_text(self, entry: LogEntry) -> str:\n",
    "        message = f\"[{entry.timestamp}] {entry.level.value} {entry.logger}: {entry.message}\"\n",
    "        print(message)\n",
    "        return message\n",
    "                \n",
    "\n",
    "    async def write(self, entry: LogEntry, output_type) -> bool:\n",
    "        \"\"\"Write entries to console\"\"\"\n",
    "        \n",
    "        try:\n",
    "            if output_type == \"json\":\n",
    "                return self._write_json(entry)\n",
    "\n",
    "            if output_type == \"text\":\n",
    "                return self._write_text(entry)\n",
    "                \n",
    "        except Exception as e:\n",
    "            print(f\"Error writing to console: {e}\")\n",
    "            return False\n",
    "\n",
    "    async def flush(self) -> bool:\n",
    "        \"\"\"Console output doesn't need flushing\"\"\"\n",
    "        return True\n"
   ]
  },
  {
   "cell_type": "code",
   "execution_count": 14,
   "id": "9d9ce494",
   "metadata": {},
   "outputs": [],
   "source": [
    "# | hide\n",
    "import nbdev; nbdev.nbdev_export('./base.ipynb')"
   ]
  }
 ],
 "metadata": {
  "kernelspec": {
   "display_name": "Python 3",
   "language": "python",
   "name": "python3"
  },
  "language_info": {
   "codemirror_mode": {
    "name": "ipython",
    "version": 3
   },
   "file_extension": ".py",
   "mimetype": "text/x-python",
   "name": "python",
   "nbconvert_exporter": "python",
   "pygments_lexer": "ipython3",
   "version": "3.12.1"
  }
 },
 "nbformat": 4,
 "nbformat_minor": 5
}
