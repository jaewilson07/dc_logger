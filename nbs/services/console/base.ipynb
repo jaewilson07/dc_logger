{
 "cells": [
  {
   "cell_type": "code",
   "execution_count": null,
   "id": "96ff75e9",
   "metadata": {},
   "outputs": [],
   "source": [
    "#| default_exp logs.services.console"
   ]
  },
  {
   "cell_type": "code",
   "execution_count": null,
   "id": "5f7d094c",
   "metadata": {},
   "outputs": [],
   "source": [
    "#| exporti\n",
    "import json\n",
    "from typing import List\n",
    "\n",
    "from dc_logger.client.base import ServiceHandler, ServiceConfig, LogEntry\n"
   ]
  },
  {
   "cell_type": "code",
   "execution_count": null,
   "id": "50c85e9c",
   "metadata": {},
   "outputs": [],
   "source": [
    "#| exporti\n",
    "\n",
    "from dc_logger.client.base import ServiceConfig, OutputMode\n",
    "from dataclasses import dataclass"
   ]
  },
  {
   "cell_type": "code",
   "execution_count": null,
   "id": "5e4d82d1",
   "metadata": {},
   "outputs": [],
   "source": [
    "#| export\n",
    "\n",
    "@dataclass\n",
    "class Console_ServiceConfig(ServiceConfig):\n",
    "    \"\"\"Console-specific log configuration\"\"\"\n",
    "    \n",
    "    output_mode: OutputMode = \"console\"\n",
    "\n",
    "    def validate_config(self) -> bool:\n",
    "        return True"
   ]
  },
  {
   "cell_type": "code",
   "execution_count": null,
   "id": "5909f443",
   "metadata": {},
   "outputs": [],
   "source": [
    "#| export\n",
    "\n",
    "class ConsoleHandler(ServiceHandler):\n",
    "    \"\"\"Handler for console output\"\"\"\n",
    "\n",
    "    async def _write_json(self, entry: LogEntry) -> dict:\n",
    "        message = json.dumps(entry.to_dict(), indent=2, default=str)\n",
    "        print(message)\n",
    "        return message\n",
    "\n",
    "\n",
    "    async def _write_text(self, entry: LogEntry) -> str:\n",
    "        message = f\"[{entry.timestamp}] {entry.level.value} {entry.logger}: {entry.message}\"\n",
    "        print(message)\n",
    "        return message\n",
    "                \n",
    "\n",
    "    async def write(self, entry: LogEntry, output_type) -> bool:\n",
    "        \"\"\"Write entries to console\"\"\"\n",
    "        \n",
    "        try:\n",
    "            if output_type == \"json\":\n",
    "                return self._write_json(entry)\n",
    "\n",
    "            if output_type == \"text\":\n",
    "                return self._write_text(entry)\n",
    "                \n",
    "        except Exception as e:\n",
    "            print(f\"Error writing to console: {e}\")\n",
    "            return False\n",
    "\n",
    "    async def flush(self) -> bool:\n",
    "        \"\"\"Console output doesn't need flushing\"\"\"\n",
    "        return True\n"
   ]
  },
  {
   "cell_type": "code",
   "execution_count": null,
   "id": "4fc907c4",
   "metadata": {},
   "outputs": [],
   "source": [
    "class ToCSV(HandlerInstance):\n",
    "    output_type : Literal[\"str\", 'json']\n",
    "\n",
    "    def write(self):\n",
    "        self.handler.write(... output_type = self.output_type)"
   ]
  },
  {
   "cell_type": "code",
   "execution_count": null,
   "id": "9d9ce494",
   "metadata": {},
   "outputs": [],
   "source": [
    "Console_ServiceConfig()"
   ]
  }
 ],
 "metadata": {
  "language_info": {
   "name": "python"
  }
 },
 "nbformat": 4,
 "nbformat_minor": 5
}
