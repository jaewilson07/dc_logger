{
 "cells": [
  {
   "cell_type": "code",
   "execution_count": null,
   "id": "96ff75e9",
   "metadata": {},
   "outputs": [],
   "source": [
    "#| default_exp logs.services.console"
   ]
  },
  {
   "cell_type": "code",
   "execution_count": null,
   "id": "5f7d094c",
   "metadata": {},
   "outputs": [],
   "source": [
    "#| exporti\n",
    "import json\n",
    "from typing import List\n",
    "\n",
    "from dc_logger.client.base import ServiceHandler, ServiceConfig, LogEntry\n"
   ]
  },
  {
   "cell_type": "code",
   "execution_count": null,
   "id": "5e4d82d1",
   "metadata": {},
   "outputs": [],
   "source": []
  }
 ],
 "metadata": {
  "language_info": {
   "name": "python"
  }
 },
 "nbformat": 4,
 "nbformat_minor": 5
}
