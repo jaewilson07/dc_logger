{
 "cells": [
  {
   "cell_type": "markdown",
   "id": "2234b2ca",
   "metadata": {},
   "source": [
    "## Base Cloud ServiceHandler"
   ]
  },
  {
   "cell_type": "code",
   "execution_count": 1,
   "id": "7274e4ba",
   "metadata": {},
   "outputs": [],
   "source": [
    "#| default_exp services.base"
   ]
  },
  {
   "cell_type": "code",
   "execution_count": 2,
   "id": "4fba3bbc",
   "metadata": {},
   "outputs": [],
   "source": [
    "#| export\n",
    "\n",
    "from dc_logger.client.base import LogEntry\n",
    "from dc_logger.client.exceptions import LogWriteError"
   ]
  },
  {
   "cell_type": "code",
   "execution_count": 3,
   "id": "6fc3c01d",
   "metadata": {},
   "outputs": [],
   "source": [
    "#| exporti\n",
    "from dc_logger.client.base import ServiceHandler\n",
    "\n",
    "from abc import ABC, abstractmethod\n",
    "from dataclasses import dataclass\n",
    "from typing import List"
   ]
  },
  {
   "cell_type": "code",
   "execution_count": null,
   "id": "ba318e77",
   "metadata": {},
   "outputs": [],
   "source": [
    "#| export\n",
    "\n",
    "@dataclass\n",
    "class CloudHandler(ServiceHandler):\n",
    "    \"\"\"Base class for cloud log handlers\"\"\"\n",
    "\n",
    "    # def __init__(self, config):\n",
    "    #     super().__init__(config)\n",
    "    #     self.cloud_config = config.to_platform_config()\n",
    "    #     config.validate_config()\n",
    "\n",
    "    @abstractmethod\n",
    "    async def _send_to_cloud(self, entries: List[LogEntry]) -> bool:\n",
    "        \"\"\"Send entries to cloud provider\"\"\"\n",
    "        pass\n",
    "\n",
    "    async def write(self, entries: List[LogEntry]) -> bool:\n",
    "        \"\"\"Write entries to cloud provider\"\"\"\n",
    "        try:\n",
    "            return await self._send_to_cloud(entries)\n",
    "        except Exception as e:\n",
    "            raise LogWriteError(f\"Error sending logs to cloud provider: {e}\")\n"
   ]
  },
  {
   "cell_type": "code",
   "execution_count": null,
   "id": "16744f9a",
   "metadata": {},
   "outputs": [],
   "source": [
    "#| export\n",
    "\n",
    "class ConsoleHandler(ServiceHandler):\n",
    "    \"\"\"Handler for console output\"\"\"\n",
    "\n",
    "    async def _write_json(self, entry: LogEntry) -> None:\n",
    "        pass\n",
    "\n",
    "    async def _write_text(self, entry: LogEntry) -> None:\n",
    "        pass\n",
    "\n",
    "    async def write(self, entries: List[LogEntry]) -> bool:\n",
    "        \"\"\"Write entries to console\"\"\"\n",
    "        try:\n",
    "            for entry in entries:\n",
    "                if self.config.format == \"json\":\n",
    "                    if self.config.pretty_print:\n",
    "                        # Pretty print JSON for development\n",
    "                        print(json.dumps(entry.to_dict(), indent=2, default=str))\n",
    "                        print(\"-\" * 80)  # Separator for readability\n",
    "                    else:\n",
    "                        print(entry.to_json())\n",
    "                else:\n",
    "                    print(\n",
    "                        f\"[{entry.timestamp}] {entry.level.value} {entry.logger}: {entry.message}\"\n",
    "                    )\n",
    "            return True\n",
    "        except Exception as e:\n",
    "            print(f\"Error writing to console: {e}\")\n",
    "            return False\n",
    "\n",
    "    async def flush(self) -> bool:\n",
    "        \"\"\"Console output doesn't need flushing\"\"\"\n",
    "        return True\n"
   ]
  },
  {
   "cell_type": "code",
   "execution_count": 5,
   "id": "526b7e24",
   "metadata": {},
   "outputs": [],
   "source": [
    "#| hide\n",
    "import nbdev; nbdev.nbdev_export('./base.ipynb')"
   ]
  }
 ],
 "metadata": {
  "kernelspec": {
   "display_name": "Python 3",
   "language": "python",
   "name": "python3"
  },
  "language_info": {
   "codemirror_mode": {
    "name": "ipython",
    "version": 3
   },
   "file_extension": ".py",
   "mimetype": "text/x-python",
   "name": "python",
   "nbconvert_exporter": "python",
   "pygments_lexer": "ipython3",
   "version": "3.12.1"
  }
 },
 "nbformat": 4,
 "nbformat_minor": 5
}
