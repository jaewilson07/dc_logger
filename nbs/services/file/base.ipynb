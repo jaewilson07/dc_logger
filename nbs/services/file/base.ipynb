{
 "cells": [
  {
   "cell_type": "code",
   "execution_count": null,
   "id": "96ff75e9",
   "metadata": {},
   "outputs": [],
   "source": [
    "#| default_exp logs.services.file"
   ]
  },
  {
   "cell_type": "code",
   "execution_count": 68,
   "id": "5f7d094c",
   "metadata": {},
   "outputs": [],
   "source": [
    "#| exporti\n",
    "import os\n",
    "import csv\n",
    "import json\n",
    "from typing import Optional,Literal\n",
    "\n",
    "from dc_logger.client.base import ServiceHandler, ServiceConfig, LogEntry\n",
    "from dc_logger.client.exceptions import LogConfigError, LogHandlerError,LogWriteError\n"
   ]
  },
  {
   "cell_type": "code",
   "execution_count": 69,
   "id": "50c85e9c",
   "metadata": {},
   "outputs": [],
   "source": [
    "#| exporti\n",
    "\n",
    "from dc_logger.client.base import ServiceConfig, OutputMode\n",
    "from dataclasses import dataclass"
   ]
  },
  {
   "cell_type": "code",
   "execution_count": 70,
   "id": "5e4d82d1",
   "metadata": {},
   "outputs": [],
   "source": [
    "#| export\n",
    "\n",
    "@dataclass(kw_only=True)\n",
    "class File_ServiceConfig(ServiceConfig):\n",
    "    \"\"\"Configuration for file-based logging output\"\"\"\n",
    "    destination: str\n",
    "    output_mode: Literal[\"File\"] = \"File\"\n",
    "    format: Literal[\"json\", \"text\", \"csv\"] = \"text\"\n",
    "    append: bool = True  # optional flag for overwrite or append\n",
    "\n",
    "    def validate_config(self) -> bool:\n",
    "        if not self.destination:\n",
    "            raise LogConfigError(\"File destination must be provided.\")\n",
    "        if self.format not in (\"json\", \"text\", \"csv\"):\n",
    "            raise LogConfigError(f\"Unsupported file format: {self.format}\")\n",
    "        return True\n"
   ]
  },
  {
   "cell_type": "code",
   "execution_count": 71,
   "id": "5909f443",
   "metadata": {},
   "outputs": [],
   "source": [
    "#| export\n",
    "\n",
    "class FileHandler(ServiceHandler):\n",
    "    \"\"\"Handler for file output\"\"\"\n",
    "\n",
    "    def __init__(self, service_config: File_ServiceConfig):\n",
    "        super().__init__(service_config)\n",
    "        service_config.validate_config()\n",
    "\n",
    "        self.file_path = service_config.destination\n",
    "        self.append_mode = \"a\" if service_config.append else \"w\"\n",
    "        self._ensure_directory_exists()\n",
    "\n",
    "    def _ensure_directory_exists(self):\n",
    "        \"\"\" Create parent directories in case they don't exist.\"\"\"\n",
    "        file_dir = os.path.dirname(self.file_path)\n",
    "        if not file_dir:\n",
    "            return\n",
    "        try:\n",
    "            os.makedirs(file_dir,exist_ok = True)\n",
    "        except PermissionError as e:\n",
    "            raise LogHandlerError(f\"Permissions denied creating directory {file_dir}: {e}\")\n",
    "        except OSError as e:\n",
    "            raise LogHandlerError(f\"OS error creating the directory {file_dir}: {e}\")\n",
    "            \n",
    "    async def _write_json(self, entry: LogEntry) -> bool:\n",
    "        try:\n",
    "            with open(self.file_path, self.mode, encoding=\"utf-8\") as f:\n",
    "                json.dump(entry.to_dict(),f,ensure_ascii=False)\n",
    "                f.write(\"\\n\")\n",
    "            return True\n",
    "        except Exception as e:\n",
    "            raise LogWriteError(f\"Error writing JSON to file {self.file_path}: {e}\")\n",
    "\n",
    "    async def _write_text(self, entry: LogEntry) -> bool:\n",
    "        try:\n",
    "            line = f\"[{entry.timestamp}] {entry.level.value if hasattr(entry.level, 'value') else entry.level} \" \\\n",
    "                   f\"{entry.logger}: {entry.message}\\n\"\n",
    "            with open(self.file_path, self.mode, encoding=\"utf-8\") as f:\n",
    "                f.write(line)\n",
    "            return True\n",
    "        except Exception as e:\n",
    "            raise LogWriteError(f\"Error writing text to file {self.file_path}: {e}\")\n",
    "\n",
    "    async def _write_csv(self, entry: LogEntry) -> bool:\n",
    "        try:\n",
    "            file_exists = os.path.exists(self.file_path)\n",
    "            with open(self.file_path, self.mode, newline=\"\", encoding=\"utf-8\") as f:\n",
    "                writer = csv.DictWriter(f, fieldnames=[\"timestamp\", \"level\", \"logger\", \"message\"])\n",
    "                if not file_exists or os.path.getsize(self.file_path) == 0:\n",
    "                    writer.writeheader()\n",
    "                writer.writerow(entry.to_dict())\n",
    "            return True\n",
    "        except Exception as e:\n",
    "            raise LogWriteError(f\"Error writing CSV to file {self.file_path}: {e}\")\n",
    "\n",
    "    async def write(self, entry: LogEntry, output_type: Optional[str] = None) -> bool:\n",
    "        \"\"\"Write a single log entry to the file\"\"\"\n",
    "        try:\n",
    "            output_type = output_type or self.service_config.format\n",
    "\n",
    "            if output_type == \"json\":\n",
    "                return await self._write_json(entry)\n",
    "            elif output_type == \"csv\":\n",
    "                return await self._write_csv(entry)\n",
    "            elif output_type == \"text\":\n",
    "                return await self._write_text(entry)\n",
    "            else:\n",
    "                raise LogConfigError(f\"Unsupported output type: {output_type}\")\n",
    "\n",
    "        except Exception as e:\n",
    "            raise LogWriteError(f\"Error writing to file {self.file_path}: {e}\")\n",
    "\n",
    "    async def flush(self) -> bool:\n",
    "        \"\"\"File writes are immediate; no flush needed\"\"\"\n",
    "        return True\n"
   ]
  },
  {
   "cell_type": "code",
   "execution_count": null,
   "id": "9d9ce494",
   "metadata": {},
   "outputs": [],
   "source": [
    "#| hide\n",
    "import nbdev; nbdev.nbdev_export('./base.ipynb')"
   ]
  }
 ],
 "metadata": {
  "kernelspec": {
   "display_name": "Python 3",
   "language": "python",
   "name": "python3"
  },
  "language_info": {
   "codemirror_mode": {
    "name": "ipython",
    "version": 3
   },
   "file_extension": ".py",
   "mimetype": "text/x-python",
   "name": "python",
   "nbconvert_exporter": "python",
   "pygments_lexer": "ipython3",
   "version": "3.12.1"
  }
 },
 "nbformat": 4,
 "nbformat_minor": 5
}
