{
 "cells": [
  {
   "cell_type": "markdown",
   "id": "2234b2ca",
   "metadata": {},
   "source": [
    "## Base Cloud ServiceHandler"
   ]
  },
  {
   "cell_type": "code",
   "execution_count": 14,
   "id": "7274e4ba",
   "metadata": {},
   "outputs": [],
   "source": [
    "#| default_exp services.cloud.base"
   ]
  },
  {
   "cell_type": "code",
   "execution_count": 15,
   "id": "4fba3bbc",
   "metadata": {},
   "outputs": [],
   "source": [
    "#| exporti\n",
    "\n",
    "from dc_logger.client.base import LogEntry\n",
    "from dc_logger.client.exceptions import LogWriteError"
   ]
  },
  {
   "cell_type": "code",
   "execution_count": 16,
   "id": "6fc3c01d",
   "metadata": {},
   "outputs": [],
   "source": [
    "#| exporti\n",
    "from dc_logger.client.base import ServiceHandler, ServiceConfig\n",
    "\n",
    "import socket\n",
    "from abc import ABC, abstractmethod\n",
    "from dataclasses import dataclass\n",
    "from typing import List, Dict, Any"
   ]
  },
  {
   "cell_type": "code",
   "execution_count": 17,
   "id": "ba318e77",
   "metadata": {},
   "outputs": [],
   "source": [
    "#| export\n",
    "\n",
    "@dataclass\n",
    "class CloudServiceConfig(ServiceConfig):\n",
    "    \"\"\"stores auth and connection information to a service provider\"\"\"\n",
    "    cloud_provider : str\n",
    "\n",
    "    @abstractmethod\n",
    "    def to_platform_config(self) -> Dict[str, Any]:\n",
    "        \"\"\"Get cloud provider specific configuration\"\"\"\n",
    "        raise NotImplementedError()\n",
    "    \n",
    "@dataclass\n",
    "class CloudHandler(ServiceHandler):\n",
    "    \"\"\"base class for communicating with service provider (route functions)\"\"\"\n",
    "\n",
    "    # def __init__(self, config):\n",
    "    #     super().__init__(config)\n",
    "    #     self.cloud_config = config.to_platform_config()\n",
    "    #     config.validate_config()\n",
    "\n",
    "    \"\"\"should i pool logs\"\"\"\n",
    "\n",
    "    async def _send_to_cloud(self, entries: List[LogEntry]) -> bool:\n",
    "        \"\"\"Send log entries to Datadog using direct HTTP API\"\"\"\n",
    "\n",
    "        def submit_logs():\n",
    "            return self._send_logs_simple_api(entries)\n",
    "\n",
    "        with concurrent.futures.ThreadPoolExecutor() as executor:\n",
    "            future = executor.submit(submit_logs)\n",
    "            result = await asyncio.wrap_future(future)\n",
    "            return result\n",
    "\n",
    "    async def _write_pooling(self, entry):\n",
    "        # if pool:\n",
    "        #     await self._send_to_cloud(self.buffer)\n",
    "        pass\n",
    "\n",
    "    async def write(self, entry) -> bool:\n",
    "        \"\"\"Write entries to cloud provider\"\"\"\n",
    "        try:\n",
    "            return await self._write_pooling(entry)\n",
    "        except Exception as e:\n",
    "            raise LogWriteError(f\"Error sending logs to cloud provider: {e}\")\n",
    "\n",
    "    def _get_hostname(self) -> str:\n",
    "        \"\"\"Get the actual hostname/IP address of the machine\"\"\"\n",
    "        try:\n",
    "            # Try to get the hostname, fallback to IP if needed\n",
    "            hostname = socket.gethostname()\n",
    "            # Get the IP address for more specific identification\n",
    "            ip_address = socket.gethostbyname(hostname)\n",
    "            return ip_address\n",
    "        except:\n",
    "            # Fallback to localhost if hostname resolution fails\n",
    "            return \"127.0.0.1\"\n"
   ]
  },
  {
   "cell_type": "code",
   "execution_count": 18,
   "id": "526b7e24",
   "metadata": {},
   "outputs": [],
   "source": [
    "#| hide\n",
    "import nbdev; nbdev.nbdev_export('./base.ipynb')"
   ]
  }
 ],
 "metadata": {
  "kernelspec": {
   "display_name": "Python 3",
   "language": "python",
   "name": "python3"
  },
  "language_info": {
   "codemirror_mode": {
    "name": "ipython",
    "version": 3
   },
   "file_extension": ".py",
   "mimetype": "text/x-python",
   "name": "python",
   "nbconvert_exporter": "python",
   "pygments_lexer": "ipython3",
   "version": "3.12.1"
  }
 },
 "nbformat": 4,
 "nbformat_minor": 5
}
