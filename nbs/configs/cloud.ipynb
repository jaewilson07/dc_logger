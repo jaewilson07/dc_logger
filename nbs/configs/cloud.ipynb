{
 "cells": [
  {
   "cell_type": "markdown",
   "id": "7ecafc46",
   "metadata": {},
   "source": [
    "# Cloud service Configs\n",
    "> Cloud provider-specific logging configuration classes."
   ]
  },
  {
   "cell_type": "code",
   "execution_count": 1,
   "id": "c89bc022",
   "metadata": {},
   "outputs": [],
   "source": [
    "#| default_exp configs.cloud"
   ]
  },
  {
   "cell_type": "code",
   "execution_count": 2,
   "id": "8481dcb6",
   "metadata": {},
   "outputs": [],
   "source": [
    "#| export\n",
    "from dc_logger.client.base import OutputMode, LogLevel, ServiceConfig\n",
    "\n",
    "from dc_logger.client.exceptions import LogConfigError"
   ]
  },
  {
   "cell_type": "code",
   "execution_count": 3,
   "id": "fd2e405e",
   "metadata": {},
   "outputs": [],
   "source": [
    "#| exporti\n",
    "\n",
    "import os\n",
    "from typing import Optional, Dict, Any\n",
    "from dataclasses import dataclass, field\n",
    "from abc import abstractmethod"
   ]
  },
  {
   "cell_type": "code",
   "execution_count": 4,
   "id": "8dc4d882",
   "metadata": {},
   "outputs": [],
   "source": [
    "#| export\n",
    "\n",
    "@dataclass\n",
    "class CloudServiceConfig(ServiceConfig):\n",
    "    cloud_provider : str\n",
    "\n",
    "    @abstractmethod\n",
    "    def to_platform_config(self) -> Dict[str, Any]:\n",
    "        \"\"\"Get cloud provider specific configuration\"\"\"\n",
    "        raise NotImplementedError()"
   ]
  },
  {
   "cell_type": "code",
   "execution_count": 5,
   "id": "bcd92e7a",
   "metadata": {},
   "outputs": [],
   "source": [
    "#| export\n",
    "\n",
    "@dataclass\n",
    "class Datadog_ServiceConfig(CloudServiceConfig):\n",
    "    \"\"\"Datadog-specific log configuration\"\"\"\n",
    "    output_mode: OutputMode = \"cloud\"\n",
    "    cloud_provider: str = \"datadog\"\n",
    "    \n",
    "    api_key: Optional[str] = field(default=None, repr=False)\n",
    "    app_key: Optional[str] = field(default=None, repr=False)\n",
    "    \n",
    "    site: str = \"datadoghq.com\"\n",
    "    service: str = \"dc_logger\"\n",
    "    env: str = \"production\"\n",
    "\n",
    "\n",
    "    def to_platform_config(self) -> Dict[str, Any]:\n",
    "        return {\n",
    "            \"api_key\": self.api_key,\n",
    "            \"app_key\": self.app_key,\n",
    "            \"site\": self.site,\n",
    "            \"service\": self.service,\n",
    "            \"env\": self.env,\n",
    "            \"cloud_provider\": self.cloud_provider,\n",
    "        }\n",
    "    \n",
    "    def validate_config(self) -> bool:\n",
    "        if not self.api_key:\n",
    "            raise LogConfigError(\"Datadog API key is required\")\n",
    "        return True\n"
   ]
  },
  {
   "cell_type": "code",
   "execution_count": 10,
   "id": "b3a74fc6",
   "metadata": {},
   "outputs": [],
   "source": [
    "dds = Datadog_ServiceConfig(\n",
    "    api_key = 123\n",
    ")\n"
   ]
  },
  {
   "cell_type": "code",
   "execution_count": 7,
   "id": "1e888000",
   "metadata": {},
   "outputs": [],
   "source": [
    "#| export\n",
    "\n",
    "\n",
    "@dataclass\n",
    "class AWSCloudWatch_ServiceConfig(CloudServiceConfig):\n",
    "    \"\"\"AWS CloudWatch-specific log configuration\"\"\"\n",
    "    output_mode: OutputMode = \"cloud\"\n",
    "    cloud_provider: str = \"aws\"\n",
    "    \n",
    "    aws_region: str = \"\"\n",
    "    log_group: str = \"\"\n",
    "\n",
    "    log_stream: Optional[str] = None\n",
    "\n",
    "    def to_platform_config(self) -> Dict[str, Any]:\n",
    "        return {\n",
    "            \"aws_region\": self.aws_region,\n",
    "            \"log_group\": self.log_group,\n",
    "            \"log_stream\": self.log_stream,\n",
    "            \"cloud_provider\": self.cloud_provider,\n",
    "        }\n",
    "    \n",
    "    def validate_config(self) -> bool:\n",
    "        if not self.aws_region:\n",
    "            raise LogConfigError(\"AWS region is required\")\n",
    "        if not self.log_group:\n",
    "            raise LogConfigError(\"AWS log group is required\")\n",
    "        return True\n",
    "\n",
    "@dataclass\n",
    "class GCPLogging_ServiceConfig(CloudServiceConfig):\n",
    "    \"\"\"Google Cloud Logging-specific configuration\"\"\"\n",
    "    \n",
    "    output_mode: OutputMode = \"cloud\"\n",
    "    cloud_provider: str = \"gcp\"\n",
    "\n",
    "    log_name: str = \"dc_logger\"\n",
    "    project_id: Optional[str] = None\n",
    "\n",
    "    def to_platform_config(self) -> Dict[str, Any]:\n",
    "        return {\n",
    "            \"project_id\": self.project_id,\n",
    "            \"log_name\": self.log_name,\n",
    "            \"cloud_provider\": self.cloud_provider,\n",
    "        }\n",
    "    \n",
    "    def validate_config(self) -> bool:\n",
    "        if not self.project_id:\n",
    "            raise LogConfigError(\"GCP project ID is required\")\n",
    "        return True\n",
    "\n",
    "\n",
    "@dataclass\n",
    "class AzureLogAnalytics_ServiceConfig(CloudServiceConfig):\n",
    "    \"\"\"Azure Log Analytics-specific configuration\"\"\"\n",
    "    \n",
    "    workspace_id: Optional[str] = field(default= None)\n",
    "    shared_key: Optional[str] = field(default = None)\n",
    "    \n",
    "    log_type: str = \"dc_logger\"\n",
    "\n",
    "    output_mode: str = field(default=\"cloud\", init=False)\n",
    "    cloud_provider: str = field(default=\"azure\", init=False)\n",
    "    \n",
    "    def to_platform_config(self) -> Dict[str, Any]:\n",
    "        return {\n",
    "            \"workspace_id\": self.workspace_id,\n",
    "            \"shared_key\": self.shared_key,\n",
    "            \"log_type\": self.log_type,\n",
    "            \"cloud_provider\": self.cloud_provider,\n",
    "        }\n",
    "    def validate_config(self) -> bool:\n",
    "        if not self.workspace_id:\n",
    "            raise LogConfigError(\"Azure workspace ID is required\")\n",
    "        if not self.shared_key:\n",
    "            raise LogConfigError(\"Azure shared key is required\")\n",
    "        return True"
   ]
  },
  {
   "cell_type": "code",
   "execution_count": 8,
   "id": "d4ac0b61",
   "metadata": {},
   "outputs": [],
   "source": [
    "#| hide\n",
    "import nbdev; nbdev.nbdev_export('./cloud.ipynb')"
   ]
  }
 ],
 "metadata": {
  "kernelspec": {
   "display_name": "Python 3",
   "language": "python",
   "name": "python3"
  },
  "language_info": {
   "codemirror_mode": {
    "name": "ipython",
    "version": 3
   },
   "file_extension": ".py",
   "mimetype": "text/x-python",
   "name": "python",
   "nbconvert_exporter": "python",
   "pygments_lexer": "ipython3",
   "version": "3.12.1"
  }
 },
 "nbformat": 4,
 "nbformat_minor": 5
}
