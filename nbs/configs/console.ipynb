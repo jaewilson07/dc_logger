{
 "cells": [
  {
   "cell_type": "markdown",
   "id": "6b7ab2ee",
   "metadata": {},
   "source": [
    "# Console Log Config\n",
    "> Console-specific log configuration class."
   ]
  },
  {
   "cell_type": "code",
   "execution_count": 1,
   "id": "46ad16d7",
   "metadata": {},
   "outputs": [],
   "source": [
    "#| default_exp configs.console"
   ]
  },
  {
   "cell_type": "code",
   "execution_count": 2,
   "id": "371e8295",
   "metadata": {},
   "outputs": [],
   "source": [
    "#| exporti\n",
    "\n",
    "from dc_logger.client.base import ServiceConfig, OutputMode\n",
    "from dataclasses import dataclass"
   ]
  },
  {
   "cell_type": "code",
   "execution_count": 6,
   "id": "f98e1e16",
   "metadata": {},
   "outputs": [],
   "source": [
    "#| export\n",
    "\n",
    "@dataclass\n",
    "class Console_ServiceConfig(ServiceConfig):\n",
    "    \"\"\"Console-specific log configuration\"\"\"\n",
    "    \n",
    "    output_mode: OutputMode = \"console\"\n",
    "\n",
    "    def validate_config(self) -> bool:\n",
    "        return True"
   ]
  },
  {
   "cell_type": "code",
   "execution_count": 7,
   "id": "76c31639",
   "metadata": {},
   "outputs": [
    {
     "data": {
      "text/plain": [
       "Console_ServiceConfig(output_mode='console')"
      ]
     },
     "execution_count": 7,
     "metadata": {},
     "output_type": "execute_result"
    }
   ],
   "source": [
    "Console_ServiceConfig()"
   ]
  },
  {
   "cell_type": "code",
   "execution_count": 4,
   "id": "db30a326",
   "metadata": {},
   "outputs": [],
   "source": [
    "#| hide\n",
    "import nbdev; nbdev.nbdev_export('./LogConfig_Console.ipynb')"
   ]
  }
 ],
 "metadata": {
  "kernelspec": {
   "display_name": "Python 3",
   "language": "python",
   "name": "python3"
  },
  "language_info": {
   "codemirror_mode": {
    "name": "ipython",
    "version": 3
   },
   "file_extension": ".py",
   "mimetype": "text/x-python",
   "name": "python",
   "nbconvert_exporter": "python",
   "pygments_lexer": "ipython3",
   "version": "3.12.1"
  }
 },
 "nbformat": 4,
 "nbformat_minor": 5
}
