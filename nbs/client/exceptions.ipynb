{
 "cells": [
  {
   "cell_type": "markdown",
   "id": "74cffeed",
   "metadata": {},
   "source": [
    "# Exceptions\n",
    "> Logging-specific exceptions for the library."
   ]
  },
  {
   "cell_type": "code",
   "execution_count": null,
   "id": "edd49e1a",
   "metadata": {},
   "outputs": [],
   "source": [
    "#| default_exp client.exceptions"
   ]
  },
  {
   "cell_type": "code",
   "execution_count": null,
   "id": "32749acd",
   "metadata": {},
   "outputs": [],
   "source": [
    "#| export\n",
    "class DC_LoggingError(Exception):\n",
    "    \"\"\"Base exception for logging errors\"\"\"\n",
    "    pass\n",
    "\n",
    "class LogHandlerError(DC_LoggingError):\n",
    "    \"\"\"Exception for log handler errors\"\"\"\n",
    "    pass\n",
    "\n",
    "class LogConfigError(DC_LoggingError):\n",
    "    \"\"\"Exception for log configuration errors\"\"\"\n",
    "    pass\n",
    "\n",
    "class LogWriteError(DC_LoggingError):\n",
    "    \"\"\"Exception for log write errors\"\"\"\n",
    "    pass\n",
    "\n",
    "class LogFlushError(DC_LoggingError):\n",
    "    \"\"\"Exception for log flush errors\"\"\"\n",
    "    pass"
   ]
  },
  {
   "cell_type": "code",
   "execution_count": 1,
   "id": "36a76b20",
   "metadata": {},
   "outputs": [],
   "source": [
    "#| hide\n",
    "import nbdev; nbdev.nbdev_export('./exceptions.ipynb')"
   ]
  }
 ],
 "metadata": {
  "kernelspec": {
   "display_name": "Python 3",
   "language": "python",
   "name": "python3"
  },
  "language_info": {
   "codemirror_mode": {
    "name": "ipython",
    "version": 3
   },
   "file_extension": ".py",
   "mimetype": "text/x-python",
   "name": "python",
   "nbconvert_exporter": "python",
   "pygments_lexer": "ipython3",
   "version": "3.12.1"
  }
 },
 "nbformat": 4,
 "nbformat_minor": 5
}
