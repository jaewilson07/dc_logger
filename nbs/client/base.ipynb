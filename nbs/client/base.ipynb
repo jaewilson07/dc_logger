{
 "cells": [
  {
   "cell_type": "markdown",
   "id": "f4397432",
   "metadata": {},
   "source": [
    "# Base classes\n",
    "> Base configuration classes and utilities for the logging library."
   ]
  },
  {
   "cell_type": "code",
   "execution_count": null,
   "id": "353ab2d0",
   "metadata": {},
   "outputs": [],
   "source": [
    "#| default_exp client.base"
   ]
  },
  {
   "cell_type": "code",
   "execution_count": null,
   "id": "79b508f0",
   "metadata": {},
   "outputs": [],
   "source": [
    "#| exporti\n",
    "\n",
    "from typing import Optional, List, Dict, Any, Literal\n",
    "from dataclasses import dataclass, field\n",
    "from abc import ABC, abstractmethod\n",
    "from enum import Enum\n"
   ]
  },
  {
   "cell_type": "code",
   "execution_count": null,
   "id": "95135cc5",
   "metadata": {},
   "outputs": [],
   "source": [
    "#| export\n",
    "\n",
    "@dataclass\n",
    "class LoggerSettings(ABC):\n",
    "    \"\"\"abstract base configuration for logging configuration settings\"\"\"\n",
    "\n",
    "    format: str = \"json\"  # json, text\n",
    "    batch_size: int = 100\n",
    "    flush_interval: int = 30  # seconds\n",
    "    correlation_enabled: bool = True\n",
    "    include_traceback: bool = True\n",
    "    max_buffer_size: int = 1000"
   ]
  },
  {
   "cell_type": "code",
   "execution_count": null,
   "id": "d6227d40",
   "metadata": {},
   "outputs": [],
   "source": [
    "#| export\n",
    "\n",
    "\n",
    "# Type for valid output modes\n",
    "OutputMode = Literal[\"cloud\", \"console\", \"file\", \"multi\"]\n",
    "\n",
    "\n",
    "@dataclass\n",
    "class ServiceConfig(ABC):\n",
    "    \"\"\"abstract base class for service-specific configuration settings\"\"\"\n",
    "\n",
    "    output_mode: OutputMode\n",
    "\n",
    "    def __post_init__(self):\n",
    "        self.validate_config()\n",
    "\n",
    "\n",
    "    @abstractmethod\n",
    "    def validate_config(self) -> bool:\n",
    "        \"\"\"Validate the configuration\"\"\"\n",
    "        raise NotImplementedError()"
   ]
  },
  {
   "cell_type": "code",
   "execution_count": null,
   "id": "0688cf94",
   "metadata": {},
   "outputs": [],
   "source": [
    "#| export\n",
    "\n",
    "class LogLevel(str, Enum):\n",
    "    \"\"\"Standard logging levels\"\"\"\n",
    "\n",
    "    DEBUG = \"DEBUG\"\n",
    "    INFO = \"INFO\"\n",
    "    WARNING = \"WARNING\"\n",
    "    ERROR = \"ERROR\"\n",
    "    CRITICAL = \"CRITICAL\"\n",
    "\n",
    "    @classmethod\n",
    "    def from_string(cls, level_str: str) -> \"LogLevel\":\n",
    "        \"\"\"Convert string to LogLevel enum\"\"\"\n",
    "        try:\n",
    "            return cls(level_str.upper())\n",
    "        except ValueError:\n",
    "            return cls.INFO  # default fallback\n",
    "\n",
    "    def should_log(self, other: \"LogLevel\") -> bool:\n",
    "        \"\"\"Check if this level should log the other level\"\"\"\n",
    "        levels = list(LogLevel)\n",
    "        return levels.index(self) <= levels.index(other)"
   ]
  },
  {
   "cell_type": "code",
   "execution_count": null,
   "id": "d05a359f",
   "metadata": {},
   "outputs": [],
   "source": [
    "#| export\n",
    "\n",
    "    \n",
    "@dataclass\n",
    "class LogHandler:\n",
    "    \"\"\"defines when, how and where to send log entries\"\"\"\n",
    "\n",
    "    log_config: LoggerSettings\n",
    "    service_config: ServiceConfig\n",
    "\n",
    "    log_level: LogLevel = LogLevel.INFO\n",
    "\n",
    "\n",
    "@dataclass \n",
    "class Logger:\n",
    "    handlers: List[LogHandler] = field(default_factory=list)\n",
    "    pretty_print: bool = False  # Pretty print JSON for development"
   ]
  },
  {
   "cell_type": "code",
   "execution_count": 4,
   "id": "8a5339ca",
   "metadata": {},
   "outputs": [],
   "source": [
    "#| hide\n",
    "import nbdev; nbdev.nbdev_export('./base.ipynb')"
   ]
  }
 ],
 "metadata": {
  "kernelspec": {
   "display_name": "Python 3",
   "language": "python",
   "name": "python3"
  },
  "language_info": {
   "codemirror_mode": {
    "name": "ipython",
    "version": 3
   },
   "file_extension": ".py",
   "mimetype": "text/x-python",
   "name": "python",
   "nbconvert_exporter": "python",
   "pygments_lexer": "ipython3",
   "version": "3.12.1"
  }
 },
 "nbformat": 4,
 "nbformat_minor": 5
}
