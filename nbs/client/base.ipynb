{
 "cells": [
  {
   "cell_type": "markdown",
   "id": "f4397432",
   "metadata": {},
   "source": [
    "# Base classes\n",
    "> Base configuration classes and utilities for the logging library."
   ]
  },
  {
   "cell_type": "code",
   "execution_count": 3,
   "id": "353ab2d0",
   "metadata": {},
   "outputs": [],
   "source": [
    "#| default_exp client.base"
   ]
  },
  {
   "cell_type": "code",
   "execution_count": 4,
   "id": "49c953d2",
   "metadata": {},
   "outputs": [
    {
     "ename": "ModuleNotFoundError",
     "evalue": "No module named 'dc_logger'",
     "output_type": "error",
     "traceback": [
      "\u001b[31m---------------------------------------------------------------------------\u001b[39m",
      "\u001b[31mModuleNotFoundError\u001b[39m                       Traceback (most recent call last)",
      "\u001b[36mCell\u001b[39m\u001b[36m \u001b[39m\u001b[32mIn[4]\u001b[39m\u001b[32m, line 2\u001b[39m\n\u001b[32m      1\u001b[39m \u001b[38;5;66;03m#| export\u001b[39;00m\n\u001b[32m----> \u001b[39m\u001b[32m2\u001b[39m \u001b[38;5;28;01mfrom\u001b[39;00m\u001b[38;5;250m \u001b[39m\u001b[34;01mdc_logger\u001b[39;00m\u001b[34;01m.\u001b[39;00m\u001b[34;01mclient\u001b[39;00m\u001b[34;01m.\u001b[39;00m\u001b[34;01mLog\u001b[39;00m\u001b[38;5;250m \u001b[39m\u001b[38;5;28;01mimport\u001b[39;00m Log\n",
      "\u001b[31mModuleNotFoundError\u001b[39m: No module named 'dc_logger'"
     ]
    }
   ],
   "source": [
    "#| export\n",
    "from dc_logger.client.Log import Log"
   ]
  },
  {
   "cell_type": "code",
   "execution_count": null,
   "id": "79b508f0",
   "metadata": {},
   "outputs": [],
   "source": [
    "#| exporti\n",
    "\n",
    "\n",
    "from typing import Optional, List, Dict, Any, Literal\n",
    "from dataclasses import dataclass, field\n",
    "from abc import ABC, abstractmethod\n",
    "from enum import Enum\n",
    "\n"
   ]
  },
  {
   "cell_type": "code",
   "execution_count": null,
   "id": "95135cc5",
   "metadata": {},
   "outputs": [],
   "source": [
    "#| export\n",
    "\n",
    "@dataclass\n",
    "class LoggerSettings(ABC):\n",
    "    \"\"\"abstract base configuration for logging configuration settings\"\"\"\n",
    "\n",
    "    format: str = \"json\"  # json, text\n",
    "    batch_size: int = 100\n",
    "    flush_interval: int = 30  # seconds\n",
    "    correlation_enabled: bool = True\n",
    "    include_traceback: bool = True\n",
    "    max_buffer_size: int = 1000"
   ]
  },
  {
   "cell_type": "markdown",
   "id": "aa1da4b7",
   "metadata": {},
   "source": [
    "## Service Handler defines 'route functions' for how to interact with a service."
   ]
  },
  {
   "cell_type": "code",
   "execution_count": null,
   "id": "d6227d40",
   "metadata": {},
   "outputs": [],
   "source": [
    "#| export\n",
    "\n",
    "\n",
    "# Type for valid output modes\n",
    "OutputMode = Literal[\"cloud\", \"console\", \"file\", \"multi\"]\n",
    "\n",
    "\n",
    "@dataclass\n",
    "class ServiceConfig(ABC):\n",
    "    \"\"\"abstract base class for service-specific configuration settings\"\"\"\n",
    "\n",
    "    output_mode: OutputMode\n",
    "\n",
    "    def __post_init__(self):\n",
    "        self.validate_config()\n",
    "\n",
    "\n",
    "    @abstractmethod\n",
    "    def validate_config(self) -> bool:\n",
    "        \"\"\"Validate the configuration\"\"\"\n",
    "        raise NotImplementedError()\n",
    "\n",
    "\n",
    "@dataclass\n",
    "class ServiceHandler(ABC):\n",
    "    \"\"\"defines how a handler communicates with services to create logs\"\"\"\n",
    "\n",
    "    service_config: Optional[ServiceConfig] = None # has authentication and connection details to service1\n",
    "\n",
    "    @classmethod\n",
    "    def from_config(cls, service_config: ServiceConfig):\n",
    "        \n",
    "        hc = cls(\n",
    "            service_config = service_config\n",
    "            \n",
    "        )\n",
    "        \n",
    "        # if hasattr(config, 'to_platform_config') and callable(getattr(config, 'to_platform_config')):\n",
    "        #     hc.platform_config = config.to_platform_config()\n",
    "        return hc\n",
    "    \n",
    "\n",
    "    @abstractmethod\n",
    "    async def write(self, entries: List[Log]) -> bool:\n",
    "        \"\"\"Write log entries to destination\"\"\"\n",
    "        pass\n",
    "\n",
    "    @abstractmethod\n",
    "    async def flush(self) -> bool:\n",
    "        \"\"\"Flush any buffered entries\"\"\"\n",
    "        pass\n",
    "\n",
    "    async def close(self):\n",
    "        \"\"\"Clean up resources\"\"\"\n",
    "        pass\n"
   ]
  },
  {
   "cell_type": "code",
   "execution_count": null,
   "id": "d05a359f",
   "metadata": {},
   "outputs": [],
   "source": [
    "#| export\n",
    "\n",
    "    \n",
    "@dataclass\n",
    "class LogHandler(ABC):\n",
    "    \"\"\"defines when, how and where to send log entries\"\"\"\n",
    "\n",
    "    log_config: LoggerSettings\n",
    "    service_handler: ServiceHandler\n",
    "\n",
    "    log_level: LogLevel = LogLevel.INFO #minimum log level to log.\n",
    "\n",
    "    log_method : List[str] = field(default_factory=lambda: [\"POST\", \"PUT\", \"DELETE\", \"PATCH\"]) # filtered list of API requests to log, generally won't log GET requests\n",
    "\n",
    "    @abstractmethod\n",
    "    async def write(self, entries: List[Log]) -> bool:\n",
    "        \"\"\"Write log entries to destination\"\"\"\n",
    "        pass\n",
    "\n",
    "    @abstractmethod\n",
    "    async def flush(self) -> bool:\n",
    "        \"\"\"Flush any buffered entries\"\"\"\n",
    "        pass\n",
    "\n",
    "    async def close(self):\n",
    "        \"\"\"Clean up resources\"\"\"\n",
    "        pass\n",
    "\n"
   ]
  },
  {
   "cell_type": "code",
   "execution_count": null,
   "id": "ed3fa8b1",
   "metadata": {},
   "outputs": [],
   "source": [
    "#| export\n",
    "\n",
    "@dataclass \n",
    "class Logger:\n",
    "    \"\"\" should receive log entries and send them to all handlers.  handlers will use log_level and log_method to determine which logs to send\"\"\"\n",
    "    handlers: List[LogHandler] = field(default_factory=list)\n",
    "    pretty_print: bool = False  # Pretty print JSON for development"
   ]
  },
  {
   "cell_type": "code",
   "execution_count": null,
   "id": "8a5339ca",
   "metadata": {},
   "outputs": [],
   "source": [
    "#| hide\n",
    "import nbdev; nbdev.nbdev_export('./base.ipynb')"
   ]
  }
 ],
 "metadata": {
  "kernelspec": {
   "display_name": ".venv",
   "language": "python",
   "name": "python3"
  },
  "language_info": {
   "codemirror_mode": {
    "name": "ipython",
    "version": 3
   },
   "file_extension": ".py",
   "mimetype": "text/x-python",
   "name": "python",
   "nbconvert_exporter": "python",
   "pygments_lexer": "ipython3",
   "version": "3.11.9"
  }
 },
 "nbformat": 4,
 "nbformat_minor": 5
}
