{
  "cells": [
    {
      "cell_type": "markdown",
      "metadata": {},
      "source": [
        "# Context Extractors\n",
        "> Extractor interfaces and implementations for extracting context from function calls\n"
      ]
    },
    {
      "cell_type": "code",
      "execution_count": null,
      "metadata": {},
      "outputs": [],
      "source": [
        "#| default_exp client.extractors"
      ]
    },
    {
      "cell_type": "code",
      "execution_count": null,
      "metadata": {},
      "outputs": [],
      "source": [
        "#| export\n",
        "from abc import ABC, abstractmethod\n",
        "from typing import Optional, Callable, Any, Dict, Tuple\n",
        "\n",
        "from dc_logger.client.Log import LogEntity, HTTPDetails, MultiTenant"
      ]
    },
    {
      "cell_type": "markdown",
      "metadata": {},
      "source": [
        "## Extractor Interfaces\n",
        "\n",
        "These abstract base classes define the contract for extracting different types of context information from function calls.\n",
        "\n",
        "Following the **Interface Segregation Principle**, each extractor has a single, focused responsibility.\n"
      ]
    },
    {
      "cell_type": "code",
      "execution_count": null,
      "metadata": {},
      "outputs": [],
      "source": [
        "#| export\n",
        "\n",
        "class EntityExtractor(ABC):\n",
        "    \"\"\"Abstract base class for extracting entity information from function arguments.\"\"\"\n",
        "    \n",
        "    @abstractmethod\n",
        "    def extract(self, func: Callable, args: tuple, kwargs: dict) -> Optional[LogEntity]:\n",
        "        \"\"\"Extract entity information from function call.\n",
        "        \n",
        "        Args:\n",
        "            func: The function being called\n",
        "            args: Positional arguments\n",
        "            kwargs: Keyword arguments\n",
        "            \n",
        "        Returns:\n",
        "            LogEntity or None if no entity found\n",
        "        \"\"\"\n",
        "        pass\n"
      ]
    },
    {
      "cell_type": "code",
      "execution_count": null,
      "metadata": {},
      "outputs": [],
      "source": [
        "#| export\n",
        "\n",
        "class HTTPDetailsExtractor(ABC):\n",
        "    \"\"\"Abstract base class for extracting HTTP details from function arguments.\"\"\"\n",
        "    \n",
        "    @abstractmethod\n",
        "    def extract(self, func: Callable, args: tuple, kwargs: dict) -> Optional[HTTPDetails]:\n",
        "        \"\"\"Extract HTTP details from function call.\n",
        "        \n",
        "        Args:\n",
        "            func: The function being called\n",
        "            args: Positional arguments\n",
        "            kwargs: Keyword arguments\n",
        "            \n",
        "        Returns:\n",
        "            HTTPDetails or None if no HTTP details found\n",
        "        \"\"\"\n",
        "        pass\n"
      ]
    },
    {
      "cell_type": "code",
      "execution_count": null,
      "metadata": {},
      "outputs": [],
      "source": [
        "#| export\n",
        "\n",
        "class MultiTenantExtractor(ABC):\n",
        "    \"\"\"Abstract base class for extracting multi-tenant information from function arguments.\"\"\"\n",
        "    \n",
        "    @abstractmethod\n",
        "    def extract(self, func: Callable, args: tuple, kwargs: dict) -> Optional[MultiTenant]:\n",
        "        \"\"\"Extract multi-tenant information from function call.\n",
        "        \n",
        "        Args:\n",
        "            func: The function being called\n",
        "            args: Positional arguments\n",
        "            kwargs: Keyword arguments\n",
        "            \n",
        "        Returns:\n",
        "            MultiTenant or None if no multi-tenant info found\n",
        "        \"\"\"\n",
        "        pass\n"
      ]
    },
    {
      "cell_type": "code",
      "execution_count": null,
      "metadata": {},
      "outputs": [],
      "source": [
        "#| export\n",
        "\n",
        "class ResultProcessor(ABC):\n",
        "    \"\"\"Abstract base class for processing function results.\"\"\"\n",
        "    \n",
        "    @abstractmethod\n",
        "    def process(self, result: Any, http_details: Optional[HTTPDetails] = None) -> Tuple[Dict[str, Any], Optional[HTTPDetails]]:\n",
        "        \"\"\"Process function result and optionally update HTTP details.\n",
        "        \n",
        "        Args:\n",
        "            result: The function result\n",
        "            http_details: Optional HTTP details to update\n",
        "            \n",
        "        Returns:\n",
        "            Tuple of (result_context dict, updated http_details)\n",
        "        \"\"\"\n",
        "        pass\n"
      ]
    },
    {
      "cell_type": "markdown",
      "metadata": {},
      "source": [
        "## Default Implementations\n",
        "\n",
        "These are sensible default implementations that work with keyword arguments.\n",
        "You can extend or replace these for domain-specific behavior.\n"
      ]
    },
    {
      "cell_type": "code",
      "execution_count": null,
      "metadata": {},
      "outputs": [],
      "source": [
        "#| export\n",
        "\n",
        "class KwargsEntityExtractor(EntityExtractor):\n",
        "    \"\"\"Default entity extractor that looks for entity in kwargs.\"\"\"\n",
        "    \n",
        "    def __init__(self, kwarg_name: str = \"entity\"):\n",
        "        self.kwarg_name = kwarg_name\n",
        "    \n",
        "    def extract(self, func: Callable, args: tuple, kwargs: dict) -> Optional[LogEntity]:\n",
        "        entity = kwargs.get(self.kwarg_name)\n",
        "        return LogEntity.from_any(entity) if entity else None\n"
      ]
    },
    {
      "cell_type": "code",
      "execution_count": null,
      "metadata": {},
      "outputs": [],
      "source": [
        "#| export\n",
        "\n",
        "class KwargsHTTPDetailsExtractor(HTTPDetailsExtractor):\n",
        "    \"\"\"Default HTTP details extractor that looks for common HTTP kwargs.\"\"\"\n",
        "    \n",
        "    def extract(self, func: Callable, args: tuple, kwargs: dict) -> Optional[HTTPDetails]:\n",
        "        # Check if http_details is directly provided\n",
        "        if \"http_details\" in kwargs:\n",
        "            hd = kwargs[\"http_details\"]\n",
        "            if isinstance(hd, HTTPDetails):\n",
        "                return hd\n",
        "            elif isinstance(hd, dict):\n",
        "                return HTTPDetails(**hd)\n",
        "        \n",
        "        # Otherwise, try to construct from common kwargs\n",
        "        if any(k in kwargs for k in [\"method\", \"url\", \"headers\"]):\n",
        "            return HTTPDetails(\n",
        "                method=kwargs.get(\"method\"),\n",
        "                url=kwargs.get(\"url\"),\n",
        "                headers=kwargs.get(\"headers\"),\n",
        "                params=kwargs.get(\"params\"),\n",
        "                request_body=kwargs.get(\"body\") or kwargs.get(\"request_body\"),\n",
        "            )\n",
        "        \n",
        "        return None\n"
      ]
    },
    {
      "cell_type": "code",
      "execution_count": null,
      "metadata": {},
      "outputs": [],
      "source": [
        "#| export\n",
        "\n",
        "class KwargsMultiTenantExtractor(MultiTenantExtractor):\n",
        "    \"\"\"Default multi-tenant extractor that looks for multi_tenant in kwargs.\"\"\"\n",
        "    \n",
        "    def extract(self, func: Callable, args: tuple, kwargs: dict) -> Optional[MultiTenant]:\n",
        "        return MultiTenant.from_kwargs(kwargs)\n"
      ]
    },
    {
      "cell_type": "code",
      "execution_count": null,
      "metadata": {},
      "outputs": [],
      "source": [
        "#| export\n",
        "\n",
        "class DefaultResultProcessor(ResultProcessor):\n",
        "    \"\"\"Default result processor with configurable result inclusion.\"\"\"\n",
        "    \n",
        "    def __init__(self, include_result: bool = False, max_result_length: int = 100):\n",
        "        self.include_result = include_result\n",
        "        self.max_result_length = max_result_length\n",
        "    \n",
        "    def process(self, result: Any, http_details: Optional[HTTPDetails] = None) -> Tuple[Dict[str, Any], Optional[HTTPDetails]]:\n",
        "        result_context = {}\n",
        "        \n",
        "        # Update HTTP details if result has status/response attributes\n",
        "        if http_details and hasattr(result, \"status\"):\n",
        "            http_details.status_code = getattr(result, \"status\", None)\n",
        "            \n",
        "            if hasattr(result, \"response\"):\n",
        "                response = result.response\n",
        "                if isinstance(response, (str, bytes)):\n",
        "                    http_details.response_size = len(response)\n",
        "                    http_details.response_body = str(response)[:500] if len(str(response)) > 500 else str(response)\n",
        "                elif hasattr(response, \"__len__\"):\n",
        "                    try:\n",
        "                        http_details.response_size = len(response)\n",
        "                    except:\n",
        "                        pass\n",
        "        \n",
        "        # Add result to context if requested\n",
        "        if self.include_result and result is not None:\n",
        "            if hasattr(result, \"__len__\") and len(result) > self.max_result_length:\n",
        "                result_context[\"result\"] = f\"<{type(result).__name__} with {len(result)} items>\"\n",
        "            elif isinstance(result, (str, int, float, bool, type(None))):\n",
        "                result_context[\"result\"] = result\n",
        "            else:\n",
        "                result_context[\"result\"] = f\"<{type(result).__name__}>\"\n",
        "        \n",
        "        return result_context, http_details\n"
      ]
    },
    {
      "cell_type": "markdown",
      "metadata": {},
      "source": [
        "## Example: Custom Extractor\n",
        "\n",
        "Here's an example of how to create a custom extractor for domain-specific needs.\n"
      ]
    },
    {
      "cell_type": "code",
      "execution_count": null,
      "metadata": {},
      "outputs": [],
      "source": [
        "# Example: Custom extractor for specific auth objects\n",
        "# This example shows how you might extract entity info from an auth object\n",
        "\n",
        "# class AuthBasedEntityExtractor(EntityExtractor):\n",
        "#     \"\"\"Extract entity from authentication object.\"\"\"\n",
        "#     \n",
        "#     def extract(self, func: Callable, args: tuple, kwargs: dict) -> Optional[LogEntity]:\n",
        "#         auth = kwargs.get(\"auth\")\n",
        "#         \n",
        "#         # Extract from auth if it has specific attributes\n",
        "#         if auth and hasattr(auth, \"instance_id\"):\n",
        "#             return LogEntity(\n",
        "#                 type=\"instance\",\n",
        "#                 id=getattr(auth, \"instance_id\", None),\n",
        "#                 name=getattr(auth, \"instance_name\", None)\n",
        "#             )\n",
        "#         \n",
        "#         # Fallback to checking kwargs for entity\n",
        "#         entity = kwargs.get(\"entity\")\n",
        "#         return LogEntity.from_any(entity) if entity else None\n"
      ]
    },
    {
      "cell_type": "code",
      "execution_count": null,
      "metadata": {},
      "outputs": [],
      "source": [
        "#| hide\n",
        "import nbdev; nbdev.nbdev_export('./extractors.ipynb')\n"
      ]
    }
  ],
  "metadata": {
    "language_info": {
      "name": "python"
    }
  },
  "nbformat": 4,
  "nbformat_minor": 2
}
